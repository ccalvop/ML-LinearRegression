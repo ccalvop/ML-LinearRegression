{
 "cells": [
  {
   "cell_type": "code",
   "execution_count": 11,
   "id": "bb85ef9b-d035-4a5a-b38b-b71abd9649b0",
   "metadata": {},
   "outputs": [],
   "source": [
    "#imports\n",
    "import numpy as np\n",
    "import matplotlib.pyplot as plt\n",
    "\n",
    "#magic command\n",
    "%matplotlib inline"
   ]
  },
  {
   "cell_type": "markdown",
   "id": "5bcab8f3-3e3b-4431-a184-87b3c753b23f",
   "metadata": {},
   "source": [
    "#### Importing the data"
   ]
  },
  {
   "cell_type": "code",
   "execution_count": 12,
   "id": "a673df73-fc34-44cf-8cd4-53b7d6e4e0cb",
   "metadata": {},
   "outputs": [
    {
     "data": {
      "image/png": "[encoded data removed]",
      "text/plain": [
       "<Figure size 640x480 with 1 Axes>"
      ]
     },
     "metadata": {},
     "output_type": "display_data"
    }
   ],
   "source": [
    "#Load data\n",
    "points = genfromtxt('score.csv', delimiter=',')\n",
    "\n",
    "#Extract columns\n",
    "x = array(points[:,0])\n",
    "y = array(points[:,1])\n",
    "\n",
    "#Plot the dataset\n",
    "plt.scatter(x,y)\n",
    "plt.xlabel('Horas de estudio')\n",
    "plt.ylabel('Resultados de examenes')\n",
    "plt.title('Dataset')\n",
    "plt.show()"
   ]
  },
  {
   "cell_type": "markdown",
   "id": "bb525fdf-2b77-483a-ab4e-b06fadb46df9",
   "metadata": {},
   "source": [
    "#### Defining the hyperparameters\n"
   ]
  },
  {
   "cell_type": "code",
   "execution_count": 13,
   "id": "741c4a97-f000-491a-b1e6-ecfd83886ec8",
   "metadata": {},
   "outputs": [],
   "source": [
    "#Hyperparameters\n",
    "learning_rate = 0.01\n",
    "initial_b = 0\n",
    "initial_m = 0\n",
    "num_iterations = 50"
   ]
  },
  {
   "cell_type": "markdown",
   "id": "9dd2fc74-6699-4333-89a0-91396a3552cc",
   "metadata": {},
   "source": [
    "#### Defining the cost function\n"
   ]
  },
  {
   "cell_type": "code",
   "execution_count": 14,
   "id": "8f6d0369-1808-40a8-93bb-c11bfee9af74",
   "metadata": {},
   "outputs": [],
   "source": [
    "# Cost function \n",
    "def compute_cost(b, m, points):\n",
    "    total_cost = 0\n",
    "    \n",
    "    # Extracting the x and y values from the points array\n",
    "    x = points[:, 0]  # Extracting the x values (feature)\n",
    "    y = points[:, 1]  # Extracting the y values (target)\n",
    "    \n",
    "    # Compute sum of squared errors\n",
    "    total_cost = np.sum((y - (m * x + b)) ** 2)\n",
    "    \n",
    "    # Return average of squared error\n",
    "    return total_cost / len(points)"
   ]
  },
  {
   "cell_type": "markdown",
   "id": "0af6db75-9521-47b3-9f78-9c8e84cf6748",
   "metadata": {},
   "source": [
    "#### Defining Gradient Descent functions\n"
   ]
  },
  {
   "cell_type": "code",
   "execution_count": 17,
   "id": "1df06dd7-298a-4173-8f70-cd6b54f92cdb",
   "metadata": {},
   "outputs": [],
   "source": [
    "def run_gradient_descent(points, initial_b, initial_m, learning_rate, num_iterations):\n",
    "    # Initialize the intercept and slope parameters\n",
    "    b = initial_b\n",
    "    m = initial_m\n",
    "    # List to store the history of costs in each iteration\n",
    "    cost_history = []\n",
    "\n",
    "    # Loop iterating over the specified number of iterations. For each iteration, optimize b, m and compute its cost\n",
    "    for i in range(num_iterations):\n",
    "        # Calculate the current cost and append it to the history\n",
    "        cost_history.append(compute_cost(b, m, points))\n",
    "        \n",
    "        # Update the parameters using the update function\n",
    "        b, m = update_parameters(b, m, np.array(points), learning_rate)\n",
    "\n",
    "    # Return the final values of b and m, along with the cost history\n",
    "    return [b, m, cost_history]\n",
    "\n",
    "def calculate_gradients(b_current, m_current, points, learning_rate):\n",
    "    # Initialize gradients to zero\n",
    "    m_gradient = 0\n",
    "    b_gradient = 0\n",
    "    N = float(len(points))\n",
    "\n",
    "    # Calculate Gradients\n",
    "    for i in range(len(points)):\n",
    "        x = points[i, 0]\n",
    "        y = points[i, 1]\n",
    "        m_gradient += - (2/N) * x * (y - (m_current * x + b_current))\n",
    "        b_gradient += - (2/N) * (y - (m_current * x + b_current))\n",
    "    \n",
    "    # Update current m and b using gradients and learning rate\n",
    "    m_updated = m_current - learning_rate * m_gradient\n",
    "    b_updated = b_current - learning_rate * b_gradient\n",
    "\n",
    "    # Return updated parameters\n",
    "    return b_updated, m_updated"
   ]
  },
  {
   "cell_type": "markdown",
   "id": "24f3b381-34d3-4e31-a812-54d9f724e4c5",
   "metadata": {},
   "source": [
    "#### Running run_gradient_descent() to get optimized parameters b and m\n"
   ]
  },
  {
   "cell_type": "code",
   "execution_count": 18,
   "id": "0c7faea9-3262-44ec-9e71-17ec3c004ac8",
   "metadata": {},
   "outputs": [
    {
     "ename": "NameError",
     "evalue": "name 'update_parameters' is not defined",
     "output_type": "error",
     "traceback": [
      "\u001b[0;31m---------------------------------------------------------------------------\u001b[0m",
      "\u001b[0;31mNameError\u001b[0m                                 Traceback (most recent call last)",
      "Cell \u001b[0;32mIn[18], line 2\u001b[0m\n\u001b[1;32m      1\u001b[0m \u001b[38;5;66;03m# Running run_gradient_descent() to get optimized parameters b and m\u001b[39;00m\n\u001b[0;32m----> 2\u001b[0m b, m, cost_graph \u001b[38;5;241m=\u001b[39m \u001b[43mrun_gradient_descent\u001b[49m\u001b[43m(\u001b[49m\u001b[43mpoints\u001b[49m\u001b[43m,\u001b[49m\u001b[43m \u001b[49m\u001b[43minitial_b\u001b[49m\u001b[43m,\u001b[49m\u001b[43m \u001b[49m\u001b[43minitial_m\u001b[49m\u001b[43m,\u001b[49m\u001b[43m \u001b[49m\u001b[43mlearning_rate\u001b[49m\u001b[43m,\u001b[49m\u001b[43m \u001b[49m\u001b[43mnum_iterations\u001b[49m\u001b[43m)\u001b[49m\n\u001b[1;32m      4\u001b[0m \u001b[38;5;66;03m# Print optimized parameters\u001b[39;00m\n\u001b[1;32m      5\u001b[0m \u001b[38;5;28mprint\u001b[39m(\u001b[38;5;124m'\u001b[39m\u001b[38;5;124mOptimized b:\u001b[39m\u001b[38;5;124m'\u001b[39m, b)\n",
      "Cell \u001b[0;32mIn[17], line 14\u001b[0m, in \u001b[0;36mrun_gradient_descent\u001b[0;34m(points, initial_b, initial_m, learning_rate, num_iterations)\u001b[0m\n\u001b[1;32m     11\u001b[0m     cost_history\u001b[38;5;241m.\u001b[39mappend(compute_cost(b, m, points))\n\u001b[1;32m     13\u001b[0m     \u001b[38;5;66;03m# Update the parameters using the update function\u001b[39;00m\n\u001b[0;32m---> 14\u001b[0m     b, m \u001b[38;5;241m=\u001b[39m \u001b[43mupdate_parameters\u001b[49m(b, m, np\u001b[38;5;241m.\u001b[39marray(points), learning_rate)\n\u001b[1;32m     16\u001b[0m \u001b[38;5;66;03m# Return the final values of b and m, along with the cost history\u001b[39;00m\n\u001b[1;32m     17\u001b[0m \u001b[38;5;28;01mreturn\u001b[39;00m [b, m, cost_history]\n",
      "\u001b[0;31mNameError\u001b[0m: name 'update_parameters' is not defined"
     ]
    }
   ],
   "source": [
    "# Running run_gradient_descent() to get optimized parameters b and m\n",
    "b, m, cost_graph = run_gradient_descent(points, initial_b, initial_m, learning_rate, num_iterations)\n",
    "\n",
    "# Print optimized parameters\n",
    "print('Optimized b:', b)\n",
    "print('Optimized m:', m)\n",
    "\n",
    "# Print error with optimized parameters\n",
    "minimized_cost = compute_cost(b, m, points)\n",
    "print('Minimized cost:', minimized_cost)"
   ]
  },
  {
   "cell_type": "code",
   "execution_count": null,
   "id": "5655eca7-558b-42e6-a3d8-ee7e26f610b8",
   "metadata": {},
   "outputs": [],
   "source": []
  }
 ],
 "metadata": {
  "kernelspec": {
   "display_name": "Python 3 (ipykernel)",
   "language": "python",
   "name": "python3"
  },
  "language_info": {
   "codemirror_mode": {
    "name": "ipython",
    "version": 3
   },
   "file_extension": ".py",
   "mimetype": "text/x-python",
   "name": "python",
   "nbconvert_exporter": "python",
   "pygments_lexer": "ipython3",
   "version": "3.11.5"
  }
 },
 "nbformat": 4,
 "nbformat_minor": 5
}
